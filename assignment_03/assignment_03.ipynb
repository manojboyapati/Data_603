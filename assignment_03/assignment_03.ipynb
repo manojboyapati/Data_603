{
  "nbformat": 4,
  "nbformat_minor": 0,
  "metadata": {
    "colab": {
      "name": "assignment_03.ipynb",
      "provenance": [],
      "authorship_tag": "ABX9TyN70S2lQbeR+cX9K2RZb3Sx",
      "include_colab_link": true
    },
    "kernelspec": {
      "name": "python3",
      "display_name": "Python 3"
    },
    "language_info": {
      "name": "python"
    }
  },
  "cells": [
    {
      "cell_type": "markdown",
      "metadata": {
        "id": "view-in-github",
        "colab_type": "text"
      },
      "source": [
        "<a href=\"https://colab.research.google.com/github/manojboyapati/Data_603/blob/main/assignment_03/assignment_03.ipynb\" target=\"_parent\"><img src=\"https://colab.research.google.com/assets/colab-badge.svg\" alt=\"Open In Colab\"/></a>"
      ]
    },
    {
      "cell_type": "code",
      "execution_count": 1,
      "metadata": {
        "id": "L74vX1_vW12M"
      },
      "outputs": [],
      "source": [
        "import random"
      ]
    },
    {
      "cell_type": "markdown",
      "source": [
        "1. Program to print 10 by 10 matrix"
      ],
      "metadata": {
        "id": "3EJYlvSZXCUr"
      }
    },
    {
      "cell_type": "code",
      "source": [
        "for j in range(10):\n",
        "    for i in range(10):\n",
        "        num = random.randint(0,9)\n",
        "        print(num, end= \" \")\n",
        "\n",
        "    print(\" \")\n",
        "    "
      ],
      "metadata": {
        "colab": {
          "base_uri": "https://localhost:8080/"
        },
        "id": "MA1-_XLgXBMm",
        "outputId": "44453cd9-b569-4bf4-961a-61d3be071b4b"
      },
      "execution_count": 2,
      "outputs": [
        {
          "output_type": "stream",
          "name": "stdout",
          "text": [
            "1 6 6 0 0 8 0 4 1 4  \n",
            "9 8 9 5 1 6 0 8 4 3  \n",
            "0 2 2 8 4 6 4 6 7 4  \n",
            "8 9 3 9 0 2 6 6 5 5  \n",
            "0 8 9 8 8 4 1 9 4 3  \n",
            "7 3 2 7 0 2 3 8 3 7  \n",
            "1 7 1 0 5 9 5 9 8 2  \n",
            "6 8 3 5 5 1 5 0 2 5  \n",
            "7 9 4 6 8 3 2 5 2 4  \n",
            "2 2 4 8 6 1 5 2 4 9  \n"
          ]
        }
      ]
    },
    {
      "cell_type": "markdown",
      "source": [
        "2. Program to replace odd numbers in the matrix with \"@\""
      ],
      "metadata": {
        "id": "5Z4wZIOUXnJa"
      }
    },
    {
      "cell_type": "code",
      "source": [
        "for j in range(10):\n",
        "    for i in range(10):\n",
        "        num = random.randint(0,9)\n",
        "        if num%2 == 0:\n",
        "            print(num, end= \" \")\n",
        "        else:\n",
        "            print(\"@\", end = \" \")\n",
        "    print(\" \")\n",
        "         \n",
        "        "
      ],
      "metadata": {
        "colab": {
          "base_uri": "https://localhost:8080/"
        },
        "id": "mkuN3b52XlN0",
        "outputId": "660c64e5-565f-4db3-baa6-50a56621f26e"
      },
      "execution_count": 3,
      "outputs": [
        {
          "output_type": "stream",
          "name": "stdout",
          "text": [
            "2 4 2 2 6 4 @ 2 2 0  \n",
            "2 @ @ @ @ @ 4 @ @ 0  \n",
            "6 @ @ @ 8 @ 8 4 4 @  \n",
            "@ @ @ @ 6 @ @ @ @ 0  \n",
            "@ @ @ @ 8 @ 2 6 0 4  \n",
            "@ @ @ @ 0 @ @ @ @ 6  \n",
            "4 @ 4 @ @ 8 @ 0 @ @  \n",
            "@ 2 @ 8 @ 8 @ @ @ @  \n",
            "0 @ 0 @ @ 6 8 8 @ 2  \n",
            "4 @ 2 2 8 @ 8 8 0 8  \n"
          ]
        }
      ]
    },
    {
      "cell_type": "markdown",
      "source": [
        "3. Program for caluclation of rows in matrix and seperates the output with \"*\""
      ],
      "metadata": {
        "id": "vK9_fniOYCCw"
      }
    },
    {
      "cell_type": "code",
      "source": [
        "for j in range(10):\n",
        "    total = 0\n",
        "    for i in range(10):\n",
        "        num = random.randint(0,9)\n",
        "        print(num, end = \" \")\n",
        "        total = total+num\n",
        "    print(\"*\", end = \" \")\n",
        "    print( total, end = \" \")\n",
        "    print(\" \")"
      ],
      "metadata": {
        "colab": {
          "base_uri": "https://localhost:8080/"
        },
        "id": "pgq2jL-gX-rq",
        "outputId": "ad43941a-1ae7-471e-dd26-5b89de54735f"
      },
      "execution_count": 4,
      "outputs": [
        {
          "output_type": "stream",
          "name": "stdout",
          "text": [
            "7 6 1 2 1 8 3 9 8 9 * 54  \n",
            "4 1 8 5 3 5 3 4 9 7 * 49  \n",
            "2 4 9 8 2 2 0 0 9 6 * 42  \n",
            "4 8 9 4 0 6 6 6 5 2 * 50  \n",
            "5 5 5 7 9 2 7 6 8 3 * 57  \n",
            "5 3 7 7 3 2 9 9 6 9 * 60  \n",
            "7 9 9 6 0 0 4 8 0 0 * 43  \n",
            "1 9 4 2 9 2 2 9 2 1 * 41  \n",
            "1 9 5 2 4 8 9 8 1 6 * 53  \n",
            "4 7 3 2 0 0 3 0 1 6 * 26  \n"
          ]
        }
      ]
    },
    {
      "cell_type": "markdown",
      "source": [
        "4. Program for surrounding matrix with \"*\""
      ],
      "metadata": {
        "id": "qqWqyWNdYkZP"
      }
    },
    {
      "cell_type": "code",
      "source": [
        "for i in range(23):\n",
        "    print(\"*\", end=\"\")\n",
        "print(\" \")\n",
        "for j in range(10):\n",
        "    #print(\"*\")\n",
        "    for i in range(10):\n",
        "        if i == 0:\n",
        "            print(\"*\", end = \" \")\n",
        "        num = random.randint(0,9)\n",
        "        print(num, end= \" \")\n",
        "    print(\"*\")\n",
        "for i in range(23):\n",
        "    print(\"*\", end=\"\")"
      ],
      "metadata": {
        "colab": {
          "base_uri": "https://localhost:8080/"
        },
        "id": "cRsj0Bd5YeGu",
        "outputId": "3a56d715-863b-4258-d535-63482dcbd14b"
      },
      "execution_count": 5,
      "outputs": [
        {
          "output_type": "stream",
          "name": "stdout",
          "text": [
            "*********************** \n",
            "* 2 5 1 9 8 0 3 2 2 3 *\n",
            "* 0 9 7 8 9 2 3 3 8 2 *\n",
            "* 5 8 7 3 4 0 0 6 5 3 *\n",
            "* 7 9 0 5 4 8 8 5 7 9 *\n",
            "* 1 0 2 7 1 8 4 6 4 0 *\n",
            "* 3 4 6 5 9 0 1 4 3 7 *\n",
            "* 0 5 5 6 6 2 5 6 3 0 *\n",
            "* 5 8 2 5 6 3 5 5 5 3 *\n",
            "* 6 9 7 5 7 1 5 3 6 2 *\n",
            "* 4 1 2 4 5 8 8 0 6 7 *\n",
            "***********************"
          ]
        }
      ]
    },
    {
      "cell_type": "markdown",
      "source": [
        "5. Program for calucalting of total rows and columns and seperates the output with \"*\""
      ],
      "metadata": {
        "id": "fuuothNNY6fn"
      }
    },
    {
      "cell_type": "code",
      "source": [
        "sum = [0]*10\n",
        "for j in range(10):\n",
        "    totalr = 0\n",
        "    for i in range(10):\n",
        "        num = random.randint(0,9)\n",
        "        sum[i]+=num\n",
        "        print(num, end = \"  \")\n",
        "        totalr = totalr+num\n",
        "    print(\"*\", end = \"  \")\n",
        "    print( totalr, end = \" \")\n",
        "    print(\" \")\n",
        "for i in range(10):\n",
        "    print(\"*\",end = \"  \")\n",
        "print(\" \")\n",
        "for i in range(10):\n",
        "    print(sum[i],end = \" \")"
      ],
      "metadata": {
        "colab": {
          "base_uri": "https://localhost:8080/"
        },
        "id": "ts-GAR2gY2GR",
        "outputId": "26417347-dc25-4d8a-c52a-c6245c1ae21d"
      },
      "execution_count": 6,
      "outputs": [
        {
          "output_type": "stream",
          "name": "stdout",
          "text": [
            "9  6  1  6  5  6  8  9  9  9  *  68  \n",
            "3  5  0  2  8  4  3  1  4  6  *  36  \n",
            "4  3  1  7  6  7  9  4  5  1  *  47  \n",
            "7  6  6  5  0  7  6  2  0  1  *  40  \n",
            "6  9  8  4  0  7  2  5  9  5  *  55  \n",
            "2  8  4  7  9  6  1  5  0  1  *  43  \n",
            "3  8  4  1  8  8  9  8  2  0  *  51  \n",
            "8  9  2  7  1  9  5  6  7  1  *  55  \n",
            "3  0  4  8  1  5  9  7  1  2  *  40  \n",
            "3  6  8  9  0  7  7  4  2  0  *  46  \n",
            "*  *  *  *  *  *  *  *  *  *   \n",
            "48 60 38 56 38 66 59 51 39 26 "
          ]
        }
      ]
    },
    {
      "cell_type": "code",
      "source": [
        ""
      ],
      "metadata": {
        "id": "PVtv-mXiZNqj"
      },
      "execution_count": 6,
      "outputs": []
    }
  ]
}